{
 "cells": [
  {
   "cell_type": "code",
   "execution_count": 21,
   "id": "0b3d20b4-038a-427e-ac82-2ce1edc4c422",
   "metadata": {},
   "outputs": [],
   "source": [
    "import pandas as pd \n",
    "import numpy as np\n",
    "import matplotlib.pyplot as plt\n",
    "import seaborn as sns \n",
    "import scatterplot as scatter \n",
    "ur1=\"https://drive.google.com/file/d/1dKZxapT3xLzOTOpy1LCyqctL8YEvzp4Y/view?usp=drive_link\"\n",
    "ur1='https://drive.google.com/uc?id=' + ur1.split('/')[-2]\n",
    "df=pd.read_csv(ur1)"
   ]
  },
  {
   "cell_type": "markdown",
   "id": "07ba2287-55c4-429c-9bf4-a3b998085690",
   "metadata": {},
   "source": [
    "#### Task 2: Votes Analysis"
   ]
  },
  {
   "cell_type": "markdown",
   "id": "a8bb8490-a454-465e-b6e4-af082ca6d2b1",
   "metadata": {},
   "source": [
    "#### Identify the restaurants with the highest and lowest number of votes.\n"
   ]
  },
  {
   "cell_type": "code",
   "execution_count": 2,
   "id": "5b18bae2-3641-4c74-b629-8b73a2ffcf2f",
   "metadata": {},
   "outputs": [
    {
     "name": "stdout",
     "output_type": "stream",
     "text": [
      "The Highest Voted Resturant is :  Restaurant Name\n",
      "Barbeque Nation              28142\n",
      "AB's - Absolute Barbecues    13400\n",
      "Toit                         10934\n",
      "Big Chill                    10853\n",
      "Farzi Cafe                   10098\n",
      "                             ...  \n",
      "Muncheezz                        0\n",
      "Swiss Gourmessa                  0\n",
      "Dosa and Pizza Corner            0\n",
      "Sweets n Treats                  0\n",
      "Food Station                     0\n",
      "Name: Votes, Length: 7446, dtype: int64\n"
     ]
    }
   ],
   "source": [
    "Highest_voted_resturant = df.groupby('Restaurant Name')['Votes'].sum().sort_values(ascending = False)\n",
    "highest_voted_resturant = Highest_voted_resturant.idxmax()\n",
    "print(\"The Highest Voted Resturant is : \",Highest_voted_resturant)\n"
   ]
  },
  {
   "cell_type": "code",
   "execution_count": 4,
   "id": "05481770-ddfc-4c7d-8ca0-47f91f58b84b",
   "metadata": {},
   "outputs": [
    {
     "name": "stdout",
     "output_type": "stream",
     "text": [
      "The Lowest Voted Resturant is : Laxmi Food Corner\n"
     ]
    }
   ],
   "source": [
    "lowest_rated_resturant = df.groupby('Restaurant Name')['Votes'].sum().sort_values()\n",
    "lowest_rated_resturant = lowest_rated_resturant.idxmin()\n",
    "print(\"The Lowest Voted Resturant is :\",lowest_rated_resturant)"
   ]
  },
  {
   "cell_type": "markdown",
   "id": "7f35e833-dfab-4756-b318-ab4bcd1ae079",
   "metadata": {},
   "source": [
    "#### Analyze if there is a correlation between the number of votes and the rating of a restaurant."
   ]
  },
  {
   "cell_type": "code",
   "execution_count": 6,
   "id": "9d8f982e-0a41-4e4a-94fa-c85e511cadcd",
   "metadata": {},
   "outputs": [
    {
     "name": "stdout",
     "output_type": "stream",
     "text": [
      "[[1.   0.31]\n",
      " [0.31 1.  ]]\n"
     ]
    }
   ],
   "source": [
    "corelation = np.corrcoef(df['Votes'],df['Aggregate rating'])\n",
    "corelation = np.round(corelation,2)\n",
    "print(corelation)"
   ]
  },
  {
   "cell_type": "code",
   "execution_count": 11,
   "id": "d6245864-1a19-4d5f-8799-92dd632d915a",
   "metadata": {},
   "outputs": [
    {
     "data": {
      "image/png": "[encoded data removed]",
      "text/plain": [
       "<Figure size 1000x500 with 2 Axes>"
      ]
     },
     "metadata": {},
     "output_type": "display_data"
    }
   ],
   "source": [
    "plt.figure(figsize=(10,5),dpi=100)\n",
    "sns.heatmap(corelation,annot=True,fmt=\".2f\", linewidth=.4)\n",
    "plt.show()"
   ]
  },
  {
   "cell_type": "code",
   "execution_count": null,
   "id": "1cf93f19-d652-462e-a6f5-d764e0f43507",
   "metadata": {},
   "outputs": [],
   "source": [
    "plt.figure(figsize=(10, 6), dpi=100)\n",
    "sns.scatterplot(data=df, x='Aggregate rating', y='Votes', hue='Aggregate rating')\n",
    "sns.regplot(data=df, x='Aggregate rating', y='Votes', scatter=False)\n",
    "correlation = np.corrcoef(df['Aggregate rating'], df['Votes'])[0, 1]\n",
    "plt.title(f\"Correlation between Aggregate rating and Votes: {correlation:.2f}\")\n",
    "plt.show()\n",
    "print(f\"As per the result, correlation value = {correlation:.2f}, which indicates there is a moderate positive correlation between these two variables.\")"
   ]
  }
 ],
 "metadata": {
  "kernelspec": {
   "display_name": "Python 3 (ipykernel)",
   "language": "python",
   "name": "python3"
  },
  "language_info": {
   "codemirror_mode": {
    "name": "ipython",
    "version": 3
   },
   "file_extension": ".py",
   "mimetype": "text/x-python",
   "name": "python",
   "nbconvert_exporter": "python",
   "pygments_lexer": "ipython3",
   "version": "3.12.6"
  }
 },
 "nbformat": 4,
 "nbformat_minor": 5
}
